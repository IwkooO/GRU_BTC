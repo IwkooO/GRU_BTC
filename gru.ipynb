{
 "cells": [
  {
   "cell_type": "code",
   "execution_count": 46,
   "metadata": {},
   "outputs": [],
   "source": [
    "import pandas as pd\n",
    "import numpy as np\n",
    "from sklearn.preprocessing import MinMaxScaler\n",
    "from sklearn.model_selection import train_test_split\n",
    "from torch.utils.data import DataLoader, TensorDataset\n",
    "import torch\n",
    "\n",
    "\n",
    "df = pd.read_csv('data/BTC-USD.csv')\n",
    "\n",
    "# Indicate whether buy or sell\n",
    "df['Future Close'] = df['Close'].shift(-1)\n",
    "df['Target'] = df.apply(lambda row: 1 if row['Future Close'] > row['Close'] else 0, axis=1)\n",
    "\n",
    "# Drop the last row since it does not have a future close price\n",
    "df.dropna(inplace=True)\n",
    "\n",
    "# Normalize the features\n",
    "scaler = MinMaxScaler()\n",
    "features_scaled = scaler.fit_transform(df[['Open', 'High', 'Low', 'Close', 'Volume']])\n",
    "\n",
    "\n",
    "# Create Sequences\n",
    "def create_sequences(features, target, sequence_length=3):\n",
    "    X, y = [], []\n",
    "    for i in range(len(features) - sequence_length):\n",
    "        X.append(features[i:i + sequence_length])\n",
    "        y.append(target.iloc[i + sequence_length])\n",
    "    return np.array(X), np.array(y)\n",
    "\n",
    "\n",
    "\n",
    "sequence_length = 5\n",
    "X, y = create_sequences(features_scaled, df['Target'], sequence_length)\n",
    "\n",
    "\n",
    "X = np.array(X)\n",
    "y = np.array(y)\n",
    "\n",
    "# Split the data into training, validation, and test sets\n",
    "X_train, X_help, y_train, y_help = train_test_split(X, y, test_size=0.4, random_state=42)\n",
    "X_test, X_val, y_test, y_val = train_test_split(X_help, y_help, test_size=0.5, random_state=42)\n",
    "\n",
    "# Convert back to PyTorch tensors\n",
    "X_train = torch.tensor(X_train, dtype=torch.float32)\n",
    "y_train = torch.tensor(y_train, dtype=torch.int64)\n",
    "X_val = torch.tensor(X_val, dtype=torch.float32)\n",
    "y_val = torch.tensor(y_val, dtype=torch.int64)\n",
    "X_test = torch.tensor(X_test, dtype=torch.float32)\n",
    "y_test = torch.tensor(y_test, dtype=torch.int64)\n",
    "\n",
    "batch_size = 128\n",
    "train_dataset = TensorDataset(X_train, y_train)\n",
    "test_dataset = TensorDataset(X_test, y_test)\n",
    "validation_dataset = TensorDataset(X_val, y_val)\n",
    "\n",
    "train_loader = DataLoader(train_dataset, batch_size=batch_size, shuffle=True)\n",
    "test_loader = DataLoader(test_dataset, batch_size=batch_size, shuffle=False)\n",
    "validation_loader = DataLoader(validation_dataset, batch_size=batch_size, shuffle=False)\n",
    "\n"
   ]
  },
  {
   "cell_type": "code",
   "execution_count": 50,
   "metadata": {},
   "outputs": [],
   "source": [
    "\n",
    "import torch\n",
    "from tqdm import tqdm\n",
    "import torch.nn as nn\n",
    "import torch.optim as optim\n",
    "import torch.nn.functional as F\n",
    "from sklearn.metrics import confusion_matrix\n",
    "\n",
    "class GRU_NET(nn.Module):\n",
    "    def __init__(self, input_size, hidden_size, output_size):\n",
    "        super(GRU_NET, self).__init__()\n",
    "        self.hidden_size = hidden_size\n",
    "        self.gru = nn.GRU(input_size, hidden_size, batch_first=True)  \n",
    "        self.fc = nn.Linear(hidden_size, output_size)\n",
    "        self.sigmoid = nn.Sigmoid()\n",
    "    \n",
    "    def forward(self, input,hidden):\n",
    "        output, hidden = self.gru(input, hidden)\n",
    "        output = self.fc(output[:, -1, :])  # Use the output from the last time step\n",
    "        output = self.sigmoid(output)\n",
    "        return output,hidden\n",
    "\n",
    "    def init_hidden(self, batch_size, device):\n",
    "        return torch.zeros(1, batch_size, self.hidden_size).to(device)    \n",
    "\n",
    "\n",
    "def train(model, train_loader, num_epochs=50):\n",
    "    device = torch.device('cuda' if torch.cuda.is_available() else 'cpu')\n",
    "    model.to(device)\n",
    "    criterion = nn.BCELoss()\n",
    "    optimizer = optim.Adam(model.parameters(), lr=0.001)\n",
    "\n",
    "    for epoch in range(num_epochs):\n",
    "        model.train()\n",
    "        running_loss = 0.0\n",
    "        for X_batch, y_batch in tqdm(train_loader):\n",
    "            X_batch, y_batch = X_batch.to(device), y_batch.to(device)\n",
    "\n",
    "            # Initialize hidden state\n",
    "            hidden = model.init_hidden(X_batch.size(0), device)\n",
    "\n",
    "            # Forward pass\n",
    "            outputs, hidden = model(X_batch,hidden)\n",
    "            loss = criterion(outputs, y_batch.unsqueeze(1).float())  # Ensure y_batch is float for BCELoss\n",
    "\n",
    "            # Backward pass and optimization\n",
    "            optimizer.zero_grad()\n",
    "            loss.backward()\n",
    "            optimizer.step()\n",
    "            \n",
    "            running_loss += loss.item()\n",
    "\n",
    "        print(f'Epoch [{epoch+1}/{num_epochs}], Loss: {running_loss/len(train_loader):.4f}')\n",
    "        evaluate(model, validation_loader)\n",
    "        \n",
    "        \n",
    "\n",
    "\n",
    "def predict(model, data, device):\n",
    "    model.eval()\n",
    "    data = data.to(device)\n",
    "    with torch.no_grad():\n",
    "        predictions = []\n",
    "        hidden = model.init_hidden(1, device)  # Initialize hidden state\n",
    "        for sample in data:\n",
    "            sample = sample.unsqueeze(0)  # Add batch dimension\n",
    "            output, hidden = model(sample, hidden)\n",
    "            predictions.append(output.item())\n",
    "    return predictions\n",
    "\n",
    "\n",
    "def evaluate(model, val_loader):\n",
    "    device = torch.device('cuda' if torch.cuda.is_available() else 'cpu')\n",
    "    model.to(device)\n",
    "    with torch.no_grad():\n",
    "        model.eval()\n",
    "        correct = 0\n",
    "        total = 0\n",
    "        tp = 0\n",
    "        tn = 0\n",
    "        fp = 0\n",
    "        fn = 0\n",
    "\n",
    "        for input, labels in val_loader:\n",
    "            input, labels = input.to(device), labels.to(device)\n",
    "            hidden = model.init_hidden(input.size(0), device)  # Initialize hidden state\n",
    "            outputs, hidden = model(input, hidden)\n",
    "            predicted = torch.round(outputs)\n",
    "            total += labels.size(0)\n",
    "            correct += (predicted == labels.unsqueeze(1)).sum().item()\n",
    "            tp += ((predicted == 1) & (labels.unsqueeze(1) == 1)).sum().item()\n",
    "            tn += ((predicted == 0) & (labels.unsqueeze(1) == 0)).sum().item()\n",
    "            fp += ((predicted == 1) & (labels.unsqueeze(1) == 0)).sum().item()\n",
    "            fn += ((predicted == 0) & (labels.unsqueeze(1) == 1)).sum().item()\n",
    "\n",
    "        print(f'Accuracy: {correct / total:.4f}')\n",
    "        print(f'True Positive: {tp}')\n",
    "        print(f'True Negative: {tn}')\n",
    "        print(f'False Positive: {fp}')\n",
    "        print(f'False Negative: {fn}')\n",
    "            \n",
    "        "
   ]
  },
  {
   "cell_type": "code",
   "execution_count": 51,
   "metadata": {},
   "outputs": [
    {
     "name": "stderr",
     "output_type": "stream",
     "text": [
      "100%|██████████| 13/13 [00:00<00:00, 48.63it/s]\n"
     ]
    },
    {
     "name": "stdout",
     "output_type": "stream",
     "text": [
      "Epoch [1/50], Loss: 0.6945\n",
      "Accuracy: 0.5446\n",
      "True Positive: 299\n",
      "True Negative: 0\n",
      "False Positive: 250\n",
      "False Negative: 0\n"
     ]
    },
    {
     "name": "stderr",
     "output_type": "stream",
     "text": [
      "100%|██████████| 13/13 [00:00<00:00, 122.28it/s]\n"
     ]
    },
    {
     "name": "stdout",
     "output_type": "stream",
     "text": [
      "Epoch [2/50], Loss: 0.6903\n",
      "Accuracy: 0.5446\n",
      "True Positive: 299\n",
      "True Negative: 0\n",
      "False Positive: 250\n",
      "False Negative: 0\n"
     ]
    },
    {
     "name": "stderr",
     "output_type": "stream",
     "text": [
      "100%|██████████| 13/13 [00:00<00:00, 152.43it/s]\n"
     ]
    },
    {
     "name": "stdout",
     "output_type": "stream",
     "text": [
      "Epoch [3/50], Loss: 0.6897\n",
      "Accuracy: 0.5446\n",
      "True Positive: 299\n",
      "True Negative: 0\n",
      "False Positive: 250\n",
      "False Negative: 0\n"
     ]
    },
    {
     "name": "stderr",
     "output_type": "stream",
     "text": [
      "100%|██████████| 13/13 [00:00<00:00, 156.53it/s]\n"
     ]
    },
    {
     "name": "stdout",
     "output_type": "stream",
     "text": [
      "Epoch [4/50], Loss: 0.6895\n",
      "Accuracy: 0.5410\n",
      "True Positive: 292\n",
      "True Negative: 5\n",
      "False Positive: 245\n",
      "False Negative: 7\n"
     ]
    },
    {
     "name": "stderr",
     "output_type": "stream",
     "text": [
      "100%|██████████| 13/13 [00:00<00:00, 158.96it/s]\n"
     ]
    },
    {
     "name": "stdout",
     "output_type": "stream",
     "text": [
      "Epoch [5/50], Loss: 0.6896\n",
      "Accuracy: 0.5464\n",
      "True Positive: 299\n",
      "True Negative: 1\n",
      "False Positive: 249\n",
      "False Negative: 0\n"
     ]
    },
    {
     "name": "stderr",
     "output_type": "stream",
     "text": [
      "100%|██████████| 13/13 [00:00<00:00, 153.35it/s]\n"
     ]
    },
    {
     "name": "stdout",
     "output_type": "stream",
     "text": [
      "Epoch [6/50], Loss: 0.6893\n",
      "Accuracy: 0.5483\n",
      "True Positive: 291\n",
      "True Negative: 10\n",
      "False Positive: 240\n",
      "False Negative: 8\n"
     ]
    },
    {
     "name": "stderr",
     "output_type": "stream",
     "text": [
      "100%|██████████| 13/13 [00:00<00:00, 134.37it/s]\n"
     ]
    },
    {
     "name": "stdout",
     "output_type": "stream",
     "text": [
      "Epoch [7/50], Loss: 0.6892\n",
      "Accuracy: 0.5464\n",
      "True Positive: 282\n",
      "True Negative: 18\n",
      "False Positive: 232\n",
      "False Negative: 17\n"
     ]
    },
    {
     "name": "stderr",
     "output_type": "stream",
     "text": [
      "100%|██████████| 13/13 [00:00<00:00, 120.69it/s]\n"
     ]
    },
    {
     "name": "stdout",
     "output_type": "stream",
     "text": [
      "Epoch [8/50], Loss: 0.6894\n",
      "Accuracy: 0.5392\n",
      "True Positive: 282\n",
      "True Negative: 14\n",
      "False Positive: 236\n",
      "False Negative: 17\n"
     ]
    },
    {
     "name": "stderr",
     "output_type": "stream",
     "text": [
      "100%|██████████| 13/13 [00:00<00:00, 110.18it/s]\n"
     ]
    },
    {
     "name": "stdout",
     "output_type": "stream",
     "text": [
      "Epoch [9/50], Loss: 0.6895\n",
      "Accuracy: 0.5446\n",
      "True Positive: 287\n",
      "True Negative: 12\n",
      "False Positive: 238\n",
      "False Negative: 12\n"
     ]
    },
    {
     "name": "stderr",
     "output_type": "stream",
     "text": [
      "100%|██████████| 13/13 [00:00<00:00, 85.19it/s]"
     ]
    },
    {
     "name": "stdout",
     "output_type": "stream",
     "text": [
      "Epoch [10/50], Loss: 0.6898\n"
     ]
    },
    {
     "name": "stderr",
     "output_type": "stream",
     "text": [
      "\n"
     ]
    },
    {
     "name": "stdout",
     "output_type": "stream",
     "text": [
      "Accuracy: 0.5501\n",
      "True Positive: 271\n",
      "True Negative: 31\n",
      "False Positive: 219\n",
      "False Negative: 28\n"
     ]
    },
    {
     "name": "stderr",
     "output_type": "stream",
     "text": [
      "100%|██████████| 13/13 [00:00<00:00, 144.83it/s]\n"
     ]
    },
    {
     "name": "stdout",
     "output_type": "stream",
     "text": [
      "Epoch [11/50], Loss: 0.6892\n",
      "Accuracy: 0.5428\n",
      "True Positive: 287\n",
      "True Negative: 11\n",
      "False Positive: 239\n",
      "False Negative: 12\n"
     ]
    },
    {
     "name": "stderr",
     "output_type": "stream",
     "text": [
      "100%|██████████| 13/13 [00:00<00:00, 156.10it/s]\n"
     ]
    },
    {
     "name": "stdout",
     "output_type": "stream",
     "text": [
      "Epoch [12/50], Loss: 0.6895\n",
      "Accuracy: 0.5464\n",
      "True Positive: 290\n",
      "True Negative: 10\n",
      "False Positive: 240\n",
      "False Negative: 9\n"
     ]
    },
    {
     "name": "stderr",
     "output_type": "stream",
     "text": [
      "100%|██████████| 13/13 [00:00<00:00, 147.70it/s]\n"
     ]
    },
    {
     "name": "stdout",
     "output_type": "stream",
     "text": [
      "Epoch [13/50], Loss: 0.6893\n",
      "Accuracy: 0.5464\n",
      "True Positive: 289\n",
      "True Negative: 11\n",
      "False Positive: 239\n",
      "False Negative: 10\n"
     ]
    },
    {
     "name": "stderr",
     "output_type": "stream",
     "text": [
      "100%|██████████| 13/13 [00:00<00:00, 143.19it/s]\n"
     ]
    },
    {
     "name": "stdout",
     "output_type": "stream",
     "text": [
      "Epoch [14/50], Loss: 0.6891\n",
      "Accuracy: 0.5446\n",
      "True Positive: 282\n",
      "True Negative: 17\n",
      "False Positive: 233\n",
      "False Negative: 17\n"
     ]
    },
    {
     "name": "stderr",
     "output_type": "stream",
     "text": [
      "100%|██████████| 13/13 [00:00<00:00, 144.82it/s]\n"
     ]
    },
    {
     "name": "stdout",
     "output_type": "stream",
     "text": [
      "Epoch [15/50], Loss: 0.6891\n",
      "Accuracy: 0.5446\n",
      "True Positive: 282\n",
      "True Negative: 17\n",
      "False Positive: 233\n",
      "False Negative: 17\n"
     ]
    },
    {
     "name": "stderr",
     "output_type": "stream",
     "text": [
      "100%|██████████| 13/13 [00:00<00:00, 100.22it/s]\n"
     ]
    },
    {
     "name": "stdout",
     "output_type": "stream",
     "text": [
      "Epoch [16/50], Loss: 0.6891\n",
      "Accuracy: 0.5428\n",
      "True Positive: 285\n",
      "True Negative: 13\n",
      "False Positive: 237\n",
      "False Negative: 14\n"
     ]
    },
    {
     "name": "stderr",
     "output_type": "stream",
     "text": [
      "100%|██████████| 13/13 [00:00<00:00, 144.84it/s]\n"
     ]
    },
    {
     "name": "stdout",
     "output_type": "stream",
     "text": [
      "Epoch [17/50], Loss: 0.6892\n",
      "Accuracy: 0.5410\n",
      "True Positive: 282\n",
      "True Negative: 15\n",
      "False Positive: 235\n",
      "False Negative: 17\n"
     ]
    },
    {
     "name": "stderr",
     "output_type": "stream",
     "text": [
      "100%|██████████| 13/13 [00:00<00:00, 137.89it/s]\n"
     ]
    },
    {
     "name": "stdout",
     "output_type": "stream",
     "text": [
      "Epoch [18/50], Loss: 0.6896\n",
      "Accuracy: 0.5410\n",
      "True Positive: 290\n",
      "True Negative: 7\n",
      "False Positive: 243\n",
      "False Negative: 9\n"
     ]
    },
    {
     "name": "stderr",
     "output_type": "stream",
     "text": [
      "100%|██████████| 13/13 [00:00<00:00, 126.55it/s]\n"
     ]
    },
    {
     "name": "stdout",
     "output_type": "stream",
     "text": [
      "Epoch [19/50], Loss: 0.6896\n",
      "Accuracy: 0.5446\n",
      "True Positive: 290\n",
      "True Negative: 9\n",
      "False Positive: 241\n",
      "False Negative: 9\n"
     ]
    },
    {
     "name": "stderr",
     "output_type": "stream",
     "text": [
      "100%|██████████| 13/13 [00:00<00:00, 105.97it/s]\n"
     ]
    },
    {
     "name": "stdout",
     "output_type": "stream",
     "text": [
      "Epoch [20/50], Loss: 0.6893\n",
      "Accuracy: 0.5446\n",
      "True Positive: 282\n",
      "True Negative: 17\n",
      "False Positive: 233\n",
      "False Negative: 17\n"
     ]
    },
    {
     "name": "stderr",
     "output_type": "stream",
     "text": [
      "100%|██████████| 13/13 [00:00<00:00, 74.48it/s]\n"
     ]
    },
    {
     "name": "stdout",
     "output_type": "stream",
     "text": [
      "Epoch [21/50], Loss: 0.6891\n",
      "Accuracy: 0.5464\n",
      "True Positive: 285\n",
      "True Negative: 15\n",
      "False Positive: 235\n",
      "False Negative: 14\n"
     ]
    },
    {
     "name": "stderr",
     "output_type": "stream",
     "text": [
      "100%|██████████| 13/13 [00:00<00:00, 94.45it/s]\n"
     ]
    },
    {
     "name": "stdout",
     "output_type": "stream",
     "text": [
      "Epoch [22/50], Loss: 0.6892\n",
      "Accuracy: 0.5446\n",
      "True Positive: 286\n",
      "True Negative: 13\n",
      "False Positive: 237\n",
      "False Negative: 13\n"
     ]
    },
    {
     "name": "stderr",
     "output_type": "stream",
     "text": [
      "100%|██████████| 13/13 [00:00<00:00, 124.14it/s]\n"
     ]
    },
    {
     "name": "stdout",
     "output_type": "stream",
     "text": [
      "Epoch [23/50], Loss: 0.6892\n",
      "Accuracy: 0.5464\n",
      "True Positive: 287\n",
      "True Negative: 13\n",
      "False Positive: 237\n",
      "False Negative: 12\n"
     ]
    },
    {
     "name": "stderr",
     "output_type": "stream",
     "text": [
      "100%|██████████| 13/13 [00:00<00:00, 143.24it/s]\n"
     ]
    },
    {
     "name": "stdout",
     "output_type": "stream",
     "text": [
      "Epoch [24/50], Loss: 0.6893\n",
      "Accuracy: 0.5446\n",
      "True Positive: 282\n",
      "True Negative: 17\n",
      "False Positive: 233\n",
      "False Negative: 17\n"
     ]
    },
    {
     "name": "stderr",
     "output_type": "stream",
     "text": [
      "100%|██████████| 13/13 [00:00<00:00, 151.63it/s]\n"
     ]
    },
    {
     "name": "stdout",
     "output_type": "stream",
     "text": [
      "Epoch [25/50], Loss: 0.6891\n",
      "Accuracy: 0.5464\n",
      "True Positive: 289\n",
      "True Negative: 11\n",
      "False Positive: 239\n",
      "False Negative: 10\n"
     ]
    },
    {
     "name": "stderr",
     "output_type": "stream",
     "text": [
      "100%|██████████| 13/13 [00:00<00:00, 149.82it/s]\n"
     ]
    },
    {
     "name": "stdout",
     "output_type": "stream",
     "text": [
      "Epoch [26/50], Loss: 0.6892\n",
      "Accuracy: 0.5483\n",
      "True Positive: 290\n",
      "True Negative: 11\n",
      "False Positive: 239\n",
      "False Negative: 9\n"
     ]
    },
    {
     "name": "stderr",
     "output_type": "stream",
     "text": [
      "100%|██████████| 13/13 [00:00<00:00, 150.29it/s]\n"
     ]
    },
    {
     "name": "stdout",
     "output_type": "stream",
     "text": [
      "Epoch [27/50], Loss: 0.6895\n",
      "Accuracy: 0.5410\n",
      "True Positive: 290\n",
      "True Negative: 7\n",
      "False Positive: 243\n",
      "False Negative: 9\n"
     ]
    },
    {
     "name": "stderr",
     "output_type": "stream",
     "text": [
      "100%|██████████| 13/13 [00:00<00:00, 170.52it/s]\n"
     ]
    },
    {
     "name": "stdout",
     "output_type": "stream",
     "text": [
      "Epoch [28/50], Loss: 0.6893\n",
      "Accuracy: 0.5446\n",
      "True Positive: 284\n",
      "True Negative: 15\n",
      "False Positive: 235\n",
      "False Negative: 15\n"
     ]
    },
    {
     "name": "stderr",
     "output_type": "stream",
     "text": [
      "100%|██████████| 13/13 [00:00<00:00, 277.40it/s]\n"
     ]
    },
    {
     "name": "stdout",
     "output_type": "stream",
     "text": [
      "Epoch [29/50], Loss: 0.6893\n",
      "Accuracy: 0.5464\n",
      "True Positive: 279\n",
      "True Negative: 21\n",
      "False Positive: 229\n",
      "False Negative: 20\n"
     ]
    },
    {
     "name": "stderr",
     "output_type": "stream",
     "text": [
      "100%|██████████| 13/13 [00:00<00:00, 313.68it/s]\n"
     ]
    },
    {
     "name": "stdout",
     "output_type": "stream",
     "text": [
      "Epoch [30/50], Loss: 0.6891\n",
      "Accuracy: 0.5428\n",
      "True Positive: 287\n",
      "True Negative: 11\n",
      "False Positive: 239\n",
      "False Negative: 12\n"
     ]
    },
    {
     "name": "stderr",
     "output_type": "stream",
     "text": [
      "100%|██████████| 13/13 [00:00<00:00, 323.41it/s]\n"
     ]
    },
    {
     "name": "stdout",
     "output_type": "stream",
     "text": [
      "Epoch [31/50], Loss: 0.6895\n",
      "Accuracy: 0.5410\n",
      "True Positive: 290\n",
      "True Negative: 7\n",
      "False Positive: 243\n",
      "False Negative: 9\n"
     ]
    },
    {
     "name": "stderr",
     "output_type": "stream",
     "text": [
      "100%|██████████| 13/13 [00:00<00:00, 94.69it/s]\n"
     ]
    },
    {
     "name": "stdout",
     "output_type": "stream",
     "text": [
      "Epoch [32/50], Loss: 0.6893\n",
      "Accuracy: 0.5428\n",
      "True Positive: 281\n",
      "True Negative: 17\n",
      "False Positive: 233\n",
      "False Negative: 18\n"
     ]
    },
    {
     "name": "stderr",
     "output_type": "stream",
     "text": [
      "100%|██████████| 13/13 [00:00<00:00, 146.44it/s]\n"
     ]
    },
    {
     "name": "stdout",
     "output_type": "stream",
     "text": [
      "Epoch [33/50], Loss: 0.6891\n",
      "Accuracy: 0.5392\n",
      "True Positive: 281\n",
      "True Negative: 15\n",
      "False Positive: 235\n",
      "False Negative: 18\n"
     ]
    },
    {
     "name": "stderr",
     "output_type": "stream",
     "text": [
      "100%|██████████| 13/13 [00:00<00:00, 88.67it/s]\n"
     ]
    },
    {
     "name": "stdout",
     "output_type": "stream",
     "text": [
      "Epoch [34/50], Loss: 0.6892\n",
      "Accuracy: 0.5464\n",
      "True Positive: 286\n",
      "True Negative: 14\n",
      "False Positive: 236\n",
      "False Negative: 13\n"
     ]
    },
    {
     "name": "stderr",
     "output_type": "stream",
     "text": [
      "100%|██████████| 13/13 [00:00<00:00, 148.13it/s]\n"
     ]
    },
    {
     "name": "stdout",
     "output_type": "stream",
     "text": [
      "Epoch [35/50], Loss: 0.6891\n",
      "Accuracy: 0.5464\n",
      "True Positive: 286\n",
      "True Negative: 14\n",
      "False Positive: 236\n",
      "False Negative: 13\n"
     ]
    },
    {
     "name": "stderr",
     "output_type": "stream",
     "text": [
      "100%|██████████| 13/13 [00:00<00:00, 143.21it/s]\n"
     ]
    },
    {
     "name": "stdout",
     "output_type": "stream",
     "text": [
      "Epoch [36/50], Loss: 0.6893\n",
      "Accuracy: 0.5464\n",
      "True Positive: 286\n",
      "True Negative: 14\n",
      "False Positive: 236\n",
      "False Negative: 13\n"
     ]
    },
    {
     "name": "stderr",
     "output_type": "stream",
     "text": [
      "100%|██████████| 13/13 [00:00<00:00, 140.15it/s]\n"
     ]
    },
    {
     "name": "stdout",
     "output_type": "stream",
     "text": [
      "Epoch [37/50], Loss: 0.6894\n",
      "Accuracy: 0.5464\n",
      "True Positive: 289\n",
      "True Negative: 11\n",
      "False Positive: 239\n",
      "False Negative: 10\n"
     ]
    },
    {
     "name": "stderr",
     "output_type": "stream",
     "text": [
      "100%|██████████| 13/13 [00:00<00:00, 115.35it/s]\n"
     ]
    },
    {
     "name": "stdout",
     "output_type": "stream",
     "text": [
      "Epoch [38/50], Loss: 0.6893\n",
      "Accuracy: 0.5464\n",
      "True Positive: 286\n",
      "True Negative: 14\n",
      "False Positive: 236\n",
      "False Negative: 13\n"
     ]
    },
    {
     "name": "stderr",
     "output_type": "stream",
     "text": [
      "100%|██████████| 13/13 [00:00<00:00, 125.18it/s]\n"
     ]
    },
    {
     "name": "stdout",
     "output_type": "stream",
     "text": [
      "Epoch [39/50], Loss: 0.6890\n",
      "Accuracy: 0.5464\n",
      "True Positive: 281\n",
      "True Negative: 19\n",
      "False Positive: 231\n",
      "False Negative: 18\n"
     ]
    },
    {
     "name": "stderr",
     "output_type": "stream",
     "text": [
      "100%|██████████| 13/13 [00:00<00:00, 152.58it/s]\n"
     ]
    },
    {
     "name": "stdout",
     "output_type": "stream",
     "text": [
      "Epoch [40/50], Loss: 0.6890\n",
      "Accuracy: 0.5464\n",
      "True Positive: 286\n",
      "True Negative: 14\n",
      "False Positive: 236\n",
      "False Negative: 13\n"
     ]
    },
    {
     "name": "stderr",
     "output_type": "stream",
     "text": [
      "100%|██████████| 13/13 [00:00<00:00, 140.20it/s]\n"
     ]
    },
    {
     "name": "stdout",
     "output_type": "stream",
     "text": [
      "Epoch [41/50], Loss: 0.6892\n",
      "Accuracy: 0.5464\n",
      "True Positive: 286\n",
      "True Negative: 14\n",
      "False Positive: 236\n",
      "False Negative: 13\n"
     ]
    },
    {
     "name": "stderr",
     "output_type": "stream",
     "text": [
      "100%|██████████| 13/13 [00:00<00:00, 146.46it/s]\n"
     ]
    },
    {
     "name": "stdout",
     "output_type": "stream",
     "text": [
      "Epoch [42/50], Loss: 0.6895\n",
      "Accuracy: 0.5410\n",
      "True Positive: 290\n",
      "True Negative: 7\n",
      "False Positive: 243\n",
      "False Negative: 9\n"
     ]
    },
    {
     "name": "stderr",
     "output_type": "stream",
     "text": [
      "100%|██████████| 13/13 [00:00<00:00, 135.90it/s]\n"
     ]
    },
    {
     "name": "stdout",
     "output_type": "stream",
     "text": [
      "Epoch [43/50], Loss: 0.6894\n",
      "Accuracy: 0.5464\n",
      "True Positive: 281\n",
      "True Negative: 19\n",
      "False Positive: 231\n",
      "False Negative: 18\n"
     ]
    },
    {
     "name": "stderr",
     "output_type": "stream",
     "text": [
      "100%|██████████| 13/13 [00:00<00:00, 144.62it/s]\n"
     ]
    },
    {
     "name": "stdout",
     "output_type": "stream",
     "text": [
      "Epoch [44/50], Loss: 0.6892\n",
      "Accuracy: 0.5446\n",
      "True Positive: 284\n",
      "True Negative: 15\n",
      "False Positive: 235\n",
      "False Negative: 15\n"
     ]
    },
    {
     "name": "stderr",
     "output_type": "stream",
     "text": [
      "100%|██████████| 13/13 [00:00<00:00, 140.17it/s]\n"
     ]
    },
    {
     "name": "stdout",
     "output_type": "stream",
     "text": [
      "Epoch [45/50], Loss: 0.6892\n",
      "Accuracy: 0.5464\n",
      "True Positive: 286\n",
      "True Negative: 14\n",
      "False Positive: 236\n",
      "False Negative: 13\n"
     ]
    },
    {
     "name": "stderr",
     "output_type": "stream",
     "text": [
      "100%|██████████| 13/13 [00:00<00:00, 108.62it/s]\n"
     ]
    },
    {
     "name": "stdout",
     "output_type": "stream",
     "text": [
      "Epoch [46/50], Loss: 0.6892\n",
      "Accuracy: 0.5464\n",
      "True Positive: 286\n",
      "True Negative: 14\n",
      "False Positive: 236\n",
      "False Negative: 13\n"
     ]
    },
    {
     "name": "stderr",
     "output_type": "stream",
     "text": [
      "100%|██████████| 13/13 [00:00<00:00, 154.26it/s]\n"
     ]
    },
    {
     "name": "stdout",
     "output_type": "stream",
     "text": [
      "Epoch [47/50], Loss: 0.6897\n",
      "Accuracy: 0.5428\n",
      "True Positive: 290\n",
      "True Negative: 8\n",
      "False Positive: 242\n",
      "False Negative: 9\n"
     ]
    },
    {
     "name": "stderr",
     "output_type": "stream",
     "text": [
      "100%|██████████| 13/13 [00:00<00:00, 158.96it/s]\n"
     ]
    },
    {
     "name": "stdout",
     "output_type": "stream",
     "text": [
      "Epoch [48/50], Loss: 0.6891\n",
      "Accuracy: 0.5464\n",
      "True Positive: 277\n",
      "True Negative: 23\n",
      "False Positive: 227\n",
      "False Negative: 22\n"
     ]
    },
    {
     "name": "stderr",
     "output_type": "stream",
     "text": [
      "100%|██████████| 13/13 [00:00<00:00, 165.00it/s]\n"
     ]
    },
    {
     "name": "stdout",
     "output_type": "stream",
     "text": [
      "Epoch [49/50], Loss: 0.6892\n",
      "Accuracy: 0.5428\n",
      "True Positive: 282\n",
      "True Negative: 16\n",
      "False Positive: 234\n",
      "False Negative: 17\n"
     ]
    },
    {
     "name": "stderr",
     "output_type": "stream",
     "text": [
      "100%|██████████| 13/13 [00:00<00:00, 89.89it/s]\n"
     ]
    },
    {
     "name": "stdout",
     "output_type": "stream",
     "text": [
      "Epoch [50/50], Loss: 0.6892\n",
      "Accuracy: 0.5464\n",
      "True Positive: 286\n",
      "True Negative: 14\n",
      "False Positive: 236\n",
      "False Negative: 13\n",
      "-------------------------\n",
      "Evaluation on test set\n",
      "Accuracy: 0.5420\n",
      "True Positive: 277\n",
      "True Negative: 20\n",
      "False Positive: 232\n",
      "False Negative: 19\n"
     ]
    }
   ],
   "source": [
    "\n",
    "model = GRU_NET(input_size=5, hidden_size=64, output_size=1)\n",
    "train(model, train_loader)\n",
    "predict(model, X_test, 'cuda:0')\n",
    "\n",
    "print('-------------------------')\n",
    "print('Evaluation on test set')\n",
    "evaluate(model, test_loader)"
   ]
  },
  {
   "cell_type": "code",
   "execution_count": null,
   "metadata": {},
   "outputs": [],
   "source": []
  }
 ],
 "metadata": {
  "kernelspec": {
   "display_name": ".venv",
   "language": "python",
   "name": "python3"
  },
  "language_info": {
   "codemirror_mode": {
    "name": "ipython",
    "version": 3
   },
   "file_extension": ".py",
   "mimetype": "text/x-python",
   "name": "python",
   "nbconvert_exporter": "python",
   "pygments_lexer": "ipython3",
   "version": "3.10.4"
  }
 },
 "nbformat": 4,
 "nbformat_minor": 2
}
